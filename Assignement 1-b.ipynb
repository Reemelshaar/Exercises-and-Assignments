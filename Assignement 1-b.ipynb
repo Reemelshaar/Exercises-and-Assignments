{
 "cells": [
  {
   "cell_type": "markdown",
   "id": "b0e54bd3",
   "metadata": {},
   "source": [
    "## Question 1:\n",
    "Write a Python function called greet_user that takes two parameters: name (a string representing the user's name) and greeting (a string representing a greeting message). The function should print the personalized greeting message. If the greeting parameter is not provided, the function should use \"Hello\" as the default greeting.\n",
    "\n",
    "Expected Output:\n",
    "\n",
    "If the user's name is \"Alice\" and no specific greeting is provided, the function should print \"Hello, Alice!\".\n",
    "\n",
    "Please write the Python code for the greet_user function and demonstrate its usage with different examples, both with and without a specific greeting"
   ]
  },
  {
   "cell_type": "code",
   "execution_count": 23,
   "id": "37d812aa",
   "metadata": {},
   "outputs": [
    {
     "name": "stdout",
     "output_type": "stream",
     "text": [
      "Hello, Ali!\n"
     ]
    }
   ],
   "source": [
    "def greet_user(name, greeting=\"Hello\"):\n",
    "    print(\"{0}, {1}!\".format(greeting, name.title()))\n",
    "\n",
    "greet_user(\"ali\")"
   ]
  },
  {
   "cell_type": "markdown",
   "id": "43a5f688",
   "metadata": {},
   "source": [
    "## Question 2:\n",
    "Write a Python program that takes two tuples as input, each containing integers, and returns a new tuple containing the element-wise sum of the corresponding elements from the input tuples. Assume the input tuples have the same length.\n",
    "\n",
    "Expected Output:\n",
    "\n",
    "If the input tuples are (1, 2, 3) and (4, 5, 6), the program should return (5, 7, 9).\n",
    "Please write the Python code to accomplish this task."
   ]
  },
  {
   "cell_type": "code",
   "execution_count": 33,
   "id": "f2e4bd5e",
   "metadata": {},
   "outputs": [
    {
     "name": "stdin",
     "output_type": "stream",
     "text": [
      "Please Enter The First Tuble: 1 2 3\n",
      "Please Enter The Second Tuble: 4 5 6\n"
     ]
    },
    {
     "data": {
      "text/plain": [
       "(5, 7, 9)"
      ]
     },
     "execution_count": 33,
     "metadata": {},
     "output_type": "execute_result"
    }
   ],
   "source": [
    "def sum_tuples():\n",
    "    tup1 = tuple(map(int, input(\"Please Enter The First Tuble:\").split()))\n",
    "    tup2 = tuple(map(int, input(\"Please Enter The Second Tuble:\").split()))\n",
    "    \n",
    "    if len(tup1) == len(tup2):\n",
    "        result = tuple(tup1[i] + tup2[i] for i in range(len(tup1)))\n",
    "        return result\n",
    "    else:\n",
    "        print(\"Please Enter Tuples Of The Same Length.\")\n",
    "        \n",
    "sum_tuples()\n"
   ]
  },
  {
   "cell_type": "markdown",
   "id": "eb50ce3a",
   "metadata": {},
   "source": [
    "## Question 3:\n",
    "Write a Python program that prompts the user to guess a secret number between 1 and 10. The program should continue to prompt the user for guesses until they correctly guess the secret number. Provide feedback to the user if their guess is too high or too low.\n",
    "\n",
    "Expected Output:\n",
    "\n",
    "If the secret number is 7 and the user's guesses are 5, 8, 7, the program should print:\n",
    "\n",
    "\"Too low! Try again.\"\n",
    "\n",
    "\"Too high! Try again.\"\n",
    "\n",
    "\"Congratulations! You guessed the secret number 7.\"\n",
    "\n",
    "Please write the Python code for this guessing game using a while loop."
   ]
  },
  {
   "cell_type": "code",
   "execution_count": 13,
   "id": "227d8033",
   "metadata": {},
   "outputs": [
    {
     "name": "stdin",
     "output_type": "stream",
     "text": [
      "Guess The Secret Number:  100\n"
     ]
    },
    {
     "name": "stdout",
     "output_type": "stream",
     "text": [
      "Enter Guess Number Between 1 and 10.\n"
     ]
    },
    {
     "name": "stdin",
     "output_type": "stream",
     "text": [
      "Guess The Secret Number:  3\n"
     ]
    },
    {
     "name": "stdout",
     "output_type": "stream",
     "text": [
      "Too Low! Try Again.\n"
     ]
    },
    {
     "name": "stdin",
     "output_type": "stream",
     "text": [
      "Guess The Secret Number:  6\n"
     ]
    },
    {
     "name": "stdout",
     "output_type": "stream",
     "text": [
      "Too High! Try Again.\n"
     ]
    },
    {
     "name": "stdin",
     "output_type": "stream",
     "text": [
      "Guess The Secret Number:  5\n"
     ]
    },
    {
     "name": "stdout",
     "output_type": "stream",
     "text": [
      "Congratulations! You Guessed The Secret Number  5\n"
     ]
    }
   ],
   "source": [
    "def secret_game():\n",
    "    secret_number = 5\n",
    "    guess = int(input(\"Guess The Secret Number: \"))\n",
    "\n",
    "    if guess >= 1 and guess <= 10:\n",
    "        while guess != secret_number:\n",
    "            if guess > secret_number :\n",
    "                print(\"Too High! Try Again.\")\n",
    "            else:\n",
    "                print(\"Too Low! Try Again.\")\n",
    "            guess = int(input(\"Guess The Secret Number: \"))\n",
    "        else:\n",
    "            print(\"Congratulations! You Guessed The Secret Number \",format(secret_number))\n",
    "    else:\n",
    "        print(\"Enter Guess Number Between 1 and 10.\")\n",
    "        secret_game()\n",
    "        \n",
    "\n",
    "secret_game()"
   ]
  },
  {
   "cell_type": "markdown",
   "id": "e3c169ff",
   "metadata": {},
   "source": [
    "## Question 4:\n",
    "Write a Python program that takes a list of words as input and creates a dictionary where the keys are the unique words in the list, and the values are lists containing the indices (positions) at which each word appears in the list.\n",
    "\n",
    "Expected Output:\n",
    "\n",
    "If the input list is [\"apple\", \"banana\", \"orange\", \"banana\", \"kiwi\", \"apple\"], the program should return {'apple': [0,5], 'banana': [1,3], 'orange': [2], 'kiwi': [4]}.\n",
    "Please write the Python code to accomplish this task."
   ]
  },
  {
   "cell_type": "code",
   "execution_count": 22,
   "id": "2ea6eb25",
   "metadata": {},
   "outputs": [
    {
     "name": "stdin",
     "output_type": "stream",
     "text": [
      "Enter a list of words seprated by commas:  apple banana orange banana kiwi apple\n"
     ]
    },
    {
     "data": {
      "text/plain": [
       "{'apple': [0, 5], 'banana': [1, 3], 'orange': [2], 'kiwi': [4]}"
      ]
     },
     "execution_count": 22,
     "metadata": {},
     "output_type": "execute_result"
    }
   ],
   "source": [
    "def create_dictionary():\n",
    "    word_list = input(\"Enter a list of words seprated by space: \").split(' ')\n",
    "    word_dictionary = {}\n",
    "    for index, word in enumerate(word_list):   #enumerate() function is a built-in function that adds a counter to an iterable and returns it in the form of an enumerate object. This object can be used in a for loop to iterate over the iterable, with each iteration providing both the index and the corresponding value.\n",
    "       if word in word_dictionary:\n",
    "          word_dictionary[word].append(index)\n",
    "       else:\n",
    "          word_dictionary[word] = [index]\n",
    "    return word_dictionary\n",
    "\n",
    "create_dictionary()\n"
   ]
  },
  {
   "cell_type": "code",
   "execution_count": 24,
   "id": "c1f00882",
   "metadata": {},
   "outputs": [
    {
     "name": "stdin",
     "output_type": "stream",
     "text": [
      "Enter a list of words seprated by space:  apple banana orange banana kiwi apple\n"
     ]
    },
    {
     "data": {
      "text/plain": [
       "{'apple': [0, 5], 'banana': [1, 3], 'orange': [2], 'kiwi': [4]}"
      ]
     },
     "execution_count": 24,
     "metadata": {},
     "output_type": "execute_result"
    }
   ],
   "source": [
    "def create_dictionary():\n",
    "    word_list = input(\"Enter a list of words seprated by space: \").split(' ')\n",
    "    word_dictionary = {}\n",
    "    for index in range (len(word_list)):\n",
    "        word = word_list[index]\n",
    "        if word in word_dictionary:\n",
    "             word_dictionary[word].append(index)\n",
    "        else:\n",
    "             word_dictionary[word] = [index]\n",
    "    return word_dictionary\n",
    "\n",
    "create_dictionary()"
   ]
  },
  {
   "cell_type": "code",
   "execution_count": null,
   "id": "e3d64d4a",
   "metadata": {},
   "outputs": [],
   "source": []
  }
 ],
 "metadata": {
  "kernelspec": {
   "display_name": "Python 3 (ipykernel)",
   "language": "python",
   "name": "python3"
  },
  "language_info": {
   "codemirror_mode": {
    "name": "ipython",
    "version": 3
   },
   "file_extension": ".py",
   "mimetype": "text/x-python",
   "name": "python",
   "nbconvert_exporter": "python",
   "pygments_lexer": "ipython3",
   "version": "3.12.7"
  }
 },
 "nbformat": 4,
 "nbformat_minor": 5
}
